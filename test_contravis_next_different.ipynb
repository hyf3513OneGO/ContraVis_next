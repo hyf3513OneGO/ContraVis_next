{
 "cells": [
  {
   "metadata": {},
   "cell_type": "markdown",
   "source": "## Predict by Origin and Noisy Predictor",
   "id": "4a69d5d74986a821"
  },
  {
   "metadata": {
    "ExecuteTime": {
     "end_time": "2025-03-21T05:50:30.976958Z",
     "start_time": "2025-03-21T05:50:30.969425Z"
    }
   },
   "cell_type": "code",
   "source": [
    "import torch\n",
    "import numpy as np\n",
    "import torch.nn.functional as F\n",
    "device = torch.device(\"cuda\" if torch.cuda.is_available() else \"cpu\")"
   ],
   "id": "827b9c965bd2183c",
   "outputs": [],
   "execution_count": 176
  },
  {
   "metadata": {
    "ExecuteTime": {
     "end_time": "2025-03-21T05:50:31.086481Z",
     "start_time": "2025-03-21T05:50:31.031675Z"
    }
   },
   "cell_type": "code",
   "source": [
    "origin_data = np.load(r\"E:\\python\\2024.12.01\\ContraVis_next\\dataset\\cifar_resnet_none\\features.npy\")\n",
    "labels = np.load(r\"E:\\python\\2024.12.01\\ContraVis_next\\dataset\\cifar_resnet_none\\labels.npy\")\n",
    "origin_pred = np.load(r\"E:\\python\\2024.12.01\\ContraVis_next\\dataset\\cifar_resnet_none\\predictions.npy\")"
   ],
   "id": "56b638b80c675da1",
   "outputs": [],
   "execution_count": 177
  },
  {
   "metadata": {
    "ExecuteTime": {
     "end_time": "2025-03-21T05:50:31.223281Z",
     "start_time": "2025-03-21T05:50:31.088555Z"
    }
   },
   "cell_type": "code",
   "source": [
    "pattern_type = \"random\"\n",
    "intensity = 0.3\n",
    "noisy_data = np.load(rf\"E:\\python\\2024.12.01\\ContraVis_next\\dataset\\cifar_resnet_{pattern_type}_{intensity}\\features.npy\")\n",
    "noisy_pred = np.load(rf\"E:\\python\\2024.12.01\\ContraVis_next\\dataset\\cifar_resnet_{pattern_type}_{intensity}\\predictions.npy\")\n",
    "similarity_scores = np.load(rf\"E:\\python\\2024.12.01\\ContraVis_next\\dataset\\cifar_resnet_{pattern_type}_{intensity}\\similarity.npy\")\n",
    "# noisy_data = raw_data"
   ],
   "id": "ec6ba05ae3335342",
   "outputs": [],
   "execution_count": 178
  },
  {
   "metadata": {
    "ExecuteTime": {
     "end_time": "2025-03-21T05:50:31.237867Z",
     "start_time": "2025-03-21T05:50:31.226400Z"
    }
   },
   "cell_type": "code",
   "source": [
    "from torch.utils.data import Dataset\n",
    "\n",
    "\n",
    "class FeatureDataset(Dataset):\n",
    "    def __init__(self,features_np,labels_np):\n",
    "        self.features_np = features_np\n",
    "        self.labels_np = labels_np\n",
    "        assert self.features_np.shape[0] == self.labels_np.shape[0],\"features_np and labels_np must have same shape\"\n",
    "    def __len__(self):\n",
    "        return len(self.labels_np)\n",
    "    def __getitem__(self, idx):\n",
    "        return self.features_np[idx],self.labels_np[idx]"
   ],
   "id": "b21e6edef5501ab",
   "outputs": [],
   "execution_count": 179
  },
  {
   "metadata": {},
   "cell_type": "markdown",
   "source": "### Find Different Prediction Index and Counts",
   "id": "cb36f7957db7fafc"
  },
  {
   "metadata": {
    "ExecuteTime": {
     "end_time": "2025-03-21T05:50:31.252857Z",
     "start_time": "2025-03-21T05:50:31.242016Z"
    }
   },
   "cell_type": "code",
   "source": [
    "similarity_threshold = 0.05\n",
    "different_semantics_mask = (origin_pred!=noisy_pred)*(similarity_scores<similarity_threshold)\n",
    "print(\"total different semantics mask:\",np.sum(different_semantics_mask))"
   ],
   "id": "4e7c558313fe7fa3",
   "outputs": [
    {
     "name": "stdout",
     "output_type": "stream",
     "text": [
      "total different semantics mask: 13120\n"
     ]
    }
   ],
   "execution_count": 180
  },
  {
   "metadata": {},
   "cell_type": "markdown",
   "source": "### Find Transformed Different Index and Counts",
   "id": "38bfb91602d379a2"
  },
  {
   "metadata": {},
   "cell_type": "markdown",
   "source": "",
   "id": "74bfd66c1578eafe"
  },
  {
   "metadata": {
    "ExecuteTime": {
     "end_time": "2025-03-21T05:50:31.271012Z",
     "start_time": "2025-03-21T05:50:31.255077Z"
    }
   },
   "cell_type": "code",
   "source": [
    "from torch.optim.lr_scheduler import StepLR\n",
    "from models.mlp import TimeMLP\n",
    "from models.flow_matching import RectifiedFlow\n",
    "import umap\n",
    "\n",
    "fm_predictor = TimeMLP(512,[128,64],512,128).to(device)\n",
    "rf = RectifiedFlow()\n",
    "np.random.seed(42)"
   ],
   "id": "c6e11254aa5a8e8",
   "outputs": [],
   "execution_count": 181
  },
  {
   "metadata": {
    "ExecuteTime": {
     "end_time": "2025-03-21T05:50:31.284516Z",
     "start_time": "2025-03-21T05:50:31.273160Z"
    }
   },
   "cell_type": "code",
   "source": [
    "class TransformationDataset(torch.utils.data.Dataset):\n",
    "    def __init__(self,reference_np,target_np,labels):\n",
    "        self.reference_np = reference_np\n",
    "        self.target_np = target_np\n",
    "        self.labels = labels[:,None]\n",
    "        assert reference_np.shape == target_np.shape,\"reference_np and target_np have different shapes\"\n",
    "    def __getitem__(self, index):\n",
    "        return torch.from_numpy(self.reference_np[index]), torch.from_numpy(self.target_np[index]),torch.from_numpy(self.labels[index])\n",
    "    def __len__(self):\n",
    "        return len(self.reference_np)"
   ],
   "id": "df463276322e2444",
   "outputs": [],
   "execution_count": 182
  },
  {
   "metadata": {
    "ExecuteTime": {
     "end_time": "2025-03-21T05:50:33.363083Z",
     "start_time": "2025-03-21T05:50:31.286689Z"
    }
   },
   "cell_type": "code",
   "source": [
    "from models.flow_matching import fm_infer\n",
    "\n",
    "transformation_dataset_train = TransformationDataset(origin_data,noisy_data,labels)\n",
    "transformation_loader_train = torch.utils.data.DataLoader(dataset=transformation_dataset_train,batch_size = 512,shuffle=False)\n",
    "transformed_tar_all = []\n",
    "for fm_test_batch in transformation_loader_train:\n",
    "    _,tar_test,_ = fm_test_batch\n",
    "    tar_test = tar_test.to(device)\n",
    "    x_ref_pred = fm_infer(fm_predictor,tar_test)\n",
    "    transformed_tar_all.append(x_ref_pred.detach().cpu().numpy())\n",
    "transformed_tar_all_np = np.concatenate(transformed_tar_all)"
   ],
   "id": "749ebc51d7b6f80a",
   "outputs": [],
   "execution_count": 183
  },
  {
   "metadata": {
    "ExecuteTime": {
     "end_time": "2025-03-21T05:50:33.392980Z",
     "start_time": "2025-03-21T05:50:33.366203Z"
    }
   },
   "cell_type": "code",
   "source": [
    "import os\n",
    "from torch import nn\n",
    "\n",
    "model_save_dir = \"model_weights/cifar_resnet_classifier\"\n",
    "origin_predictor = nn.Sequential(\n",
    "    nn.Linear(512, 256),\n",
    "    nn.ReLU(),\n",
    "    nn.Linear(256, 10)  # CIFAR-10 共有 10 类\n",
    ").to(device)\n",
    "origin_predictor.load_state_dict(torch.load(os.path.join(model_save_dir,r\"origin_mlp_10_0.405_85.884.pth\")))\n",
    "transformed_feature_dataset = FeatureDataset(transformed_tar_all_np,labels)\n",
    "transformed_feature_dataloader = torch.utils.data.DataLoader(transformed_feature_dataset,batch_size=32,shuffle=False)"
   ],
   "id": "f02947b34dbf3aed",
   "outputs": [],
   "execution_count": 184
  },
  {
   "metadata": {
    "ExecuteTime": {
     "end_time": "2025-03-21T05:50:35.373689Z",
     "start_time": "2025-03-21T05:50:33.395105Z"
    }
   },
   "cell_type": "code",
   "source": [
    "pred_all_transformed = []\n",
    "total_correct = 0\n",
    "for batch in transformed_feature_dataloader:\n",
    "    feature_transformed,label_transformed = batch\n",
    "    feature_transformed = feature_transformed.to(device)\n",
    "    label_transformed = label_transformed.to(device)\n",
    "    pred_transformed = origin_predictor(feature_transformed)\n",
    "    _,pred_category = torch.max(pred_transformed,dim=1)\n",
    "    total_correct += (pred_category == label_transformed).sum().item()\n",
    "    pred_all_transformed.append(pred_category.cpu().numpy())\n",
    "pred_all_transformed_np = np.concatenate(pred_all_transformed)\n",
    "print(f\"accuracy:{100*total_correct/len(labels)}%\")\n",
    "print(np.sum((pred_all_transformed_np!=origin_pred)*different_semantics_mask))\n",
    "np.save(rf\"E:\\python\\2024.12.01\\ContraVis_next\\dataset\\cifar_resnet_{pattern_type}_{intensity}\\predictions_transformed.npy\",pred_all_transformed_np)"
   ],
   "id": "30ea995057bc2950",
   "outputs": [
    {
     "name": "stdout",
     "output_type": "stream",
     "text": [
      "accuracy:54.976%\n",
      "9861\n"
     ]
    }
   ],
   "execution_count": 185
  },
  {
   "metadata": {
    "ExecuteTime": {
     "end_time": "2025-03-21T05:50:35.387733Z",
     "start_time": "2025-03-21T05:50:35.377441Z"
    }
   },
   "cell_type": "code",
   "source": [
    "similar_all_count = np.sum(similarity_scores>similarity_threshold)\n",
    "similar_mask = similarity_scores>similarity_threshold\n",
    "similar_preserved = np.sum((noisy_pred==origin_pred)*similar_mask)\n",
    "print(f\"similar_all_count,similar_preserved:\\n{similar_preserved}/{similar_all_count},{similar_preserved/similar_all_count:.3f}\")"
   ],
   "id": "4bbd3365a39c52a7",
   "outputs": [
    {
     "name": "stdout",
     "output_type": "stream",
     "text": [
      "similar_all_count,similar_preserved:\n",
      "5952/7629,0.780\n"
     ]
    }
   ],
   "execution_count": 186
  }
 ],
 "metadata": {
  "kernelspec": {
   "display_name": "gnn_course",
   "language": "python",
   "name": "gnn_course"
  },
  "language_info": {
   "codemirror_mode": {
    "name": "ipython",
    "version": 2
   },
   "file_extension": ".py",
   "mimetype": "text/x-python",
   "name": "python",
   "nbconvert_exporter": "python",
   "pygments_lexer": "ipython2",
   "version": "2.7.6"
  }
 },
 "nbformat": 4,
 "nbformat_minor": 5
}
